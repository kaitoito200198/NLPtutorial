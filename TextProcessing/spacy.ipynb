{
 "cells": [
  {
   "cell_type": "code",
   "execution_count": 8,
   "metadata": {},
   "outputs": [
    {
     "name": "stdout",
     "output_type": "stream",
     "text": [
      "If  |  subordinating conjunction  |  if\n",
      "you  |  pronoun  |  you\n",
      "want  |  verb  |  want\n",
      "to  |  particle  |  to\n",
      "be  |  auxiliary  |  be\n",
      "an  |  determiner  |  an\n",
      "excellent  |  adjective  |  excellent\n",
      "programmer  |  noun  |  programmer\n",
      ",  |  punctuation  |  ,\n",
      "be  |  auxiliary  |  be\n",
      "consistent  |  adjective  |  consistent\n",
      "to  |  particle  |  to\n",
      "practice  |  verb  |  practice\n",
      "daily  |  adverb  |  daily\n",
      "on  |  adposition  |  on\n",
      "GFG  |  proper noun  |  GFG\n",
      ".  |  punctuation  |  .\n"
     ]
    }
   ],
   "source": [
    "import spacy \n",
    "\n",
    "# loading modules to the pipeline. \n",
    "nlp = spacy.load(\"en_core_web_sm\") \n",
    "\n",
    "# Initialising doc with a sentence. \n",
    "doc = nlp(\"If you want to be an excellent programmer , be consistent to practice daily on GFG.\") \n",
    "\n",
    "# Using properties of token i.e. Part of Speech and Lemmatization \n",
    "for token in doc: \n",
    "\tprint(token, \" | \", \n",
    "\t\tspacy.explain(token.pos_), \n",
    "\t\t\" | \", token.lemma_) \n",
    "\n"
   ]
  }
 ],
 "metadata": {
  "kernelspec": {
   "display_name": "Python 3",
   "language": "python",
   "name": "python3"
  },
  "language_info": {
   "codemirror_mode": {
    "name": "ipython",
    "version": 3
   },
   "file_extension": ".py",
   "mimetype": "text/x-python",
   "name": "python",
   "nbconvert_exporter": "python",
   "pygments_lexer": "ipython3",
   "version": "3.11.4"
  }
 },
 "nbformat": 4,
 "nbformat_minor": 2
}
