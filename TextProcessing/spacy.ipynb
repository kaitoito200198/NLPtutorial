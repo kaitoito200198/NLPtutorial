{
 "cells": [
  {
   "cell_type": "code",
   "execution_count": null,
   "metadata": {},
   "outputs": [],
   "source": [
    "# First we need to import spacy \n",
    "import spacy \n",
    "\n",
    "# Creating blank language object then \n",
    "# tokenizing words of the sentence \n",
    "nlp = spacy.blank(\"en\") \n",
    "\n",
    "doc = nlp(\"GeeksforGeeks is a one stop learning destination for geeks.\") \n",
    "\n",
    "\n",
    "for token in doc: \n",
    "\tprint(token) \n"
   ]
  }
 ],
 "metadata": {
  "language_info": {
   "name": "python"
  }
 },
 "nbformat": 4,
 "nbformat_minor": 2
}
