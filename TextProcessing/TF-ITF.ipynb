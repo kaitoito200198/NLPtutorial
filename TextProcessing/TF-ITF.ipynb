{
 "cells": [
  {
   "cell_type": "markdown",
   "metadata": {},
   "source": [
    "Understanding TF-IDF(Term Frequency-Inverse Document Frequency)"
   ]
  },
  {
   "cell_type": "markdown",
   "metadata": {},
   "source": [
    "Term Frequency:\n",
    "tf(t,d)=count of t in d/number of words in d"
   ]
  },
  {
   "cell_type": "markdown",
   "metadata": {},
   "source": [
    "Document Frequency:\n",
    "df(t)=occurence of t in documents"
   ]
  },
  {
   "cell_type": "code",
   "execution_count": 15,
   "metadata": {},
   "outputs": [],
   "source": [
    "from sklearn.feature_extraction.text import TfidfVectorizer\n",
    "d0='Geeks for geeks geeks geeks'\n",
    "d1='Geeks geeks'\n",
    "d2='r2j'\n",
    "string=[d0,d1,d2]"
   ]
  },
  {
   "cell_type": "code",
   "execution_count": 13,
   "metadata": {},
   "outputs": [
    {
     "name": "stdout",
     "output_type": "stream",
     "text": [
      "\n",
      "idf values:\n",
      "for : 1.2876820724517808\n",
      "geeks : 1.0\n",
      "r2j : 1.6931471805599454\n"
     ]
    }
   ],
   "source": [
    "#create object\n",
    "tfidf=TfidfVectorizer()\n",
    "#get tf-df values\n",
    "result=tfidf.fit_transform(string)\n",
    "\n",
    "#get idf values\n",
    "print('\\nidf values:')\n",
    "for ele1,ele2 in zip(tfidf.get_feature_names_out(),tfidf.idf_):\n",
    "    print(ele1 ,\":\",ele2)"
   ]
  },
  {
   "cell_type": "code",
   "execution_count": 16,
   "metadata": {},
   "outputs": [
    {
     "name": "stdout",
     "output_type": "stream",
     "text": [
      "\n",
      "Word indexes:\n",
      "{'geeks': 1, 'for': 0, 'r2j': 2}\n",
      "\n",
      "tf-idf value:\n",
      "  (0, 0)\t0.30643357962783513\n",
      "  (0, 1)\t0.9518920428685552\n",
      "  (1, 1)\t1.0\n",
      "  (2, 2)\t0.7203334490549893\n",
      "  (2, 0)\t0.5478321549274363\n",
      "  (2, 1)\t0.4254405389711991\n",
      "\n",
      "tf-idf values in matrix form:\n",
      "[[0.30643358 0.95189204 0.        ]\n",
      " [0.         1.         0.        ]\n",
      " [0.54783215 0.42544054 0.72033345]]\n"
     ]
    }
   ],
   "source": [
    "# get indexing\n",
    "print('\\nWord indexes:')\n",
    "print(tfidf.vocabulary_)\n",
    "\n",
    "# display tf-idf values\n",
    "print('\\ntf-idf value:')\n",
    "print(result)\n",
    "\n",
    "# in matrix form\n",
    "print('\\ntf-idf values in matrix form:')\n",
    "print(result.toarray())\n"
   ]
  }
 ],
 "metadata": {
  "kernelspec": {
   "display_name": "Python 3",
   "language": "python",
   "name": "python3"
  },
  "language_info": {
   "codemirror_mode": {
    "name": "ipython",
    "version": 3
   },
   "file_extension": ".py",
   "mimetype": "text/x-python",
   "name": "python",
   "nbconvert_exporter": "python",
   "pygments_lexer": "ipython3",
   "version": "3.11.4"
  }
 },
 "nbformat": 4,
 "nbformat_minor": 2
}
